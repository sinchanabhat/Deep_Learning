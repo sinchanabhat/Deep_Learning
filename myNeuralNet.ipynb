{
  "nbformat": 4,
  "nbformat_minor": 0,
  "metadata": {
    "colab": {
      "name": "myNeuralNet.ipynb",
      "provenance": [],
      "collapsed_sections": [],
      "authorship_tag": "ABX9TyOM+QvOG21Us6M6zUPIH5cw",
      "include_colab_link": true
    },
    "kernelspec": {
      "name": "python3",
      "display_name": "Python 3"
    }
  },
  "cells": [
    {
      "cell_type": "markdown",
      "metadata": {
        "id": "view-in-github",
        "colab_type": "text"
      },
      "source": [
        "<a href=\"https://colab.research.google.com/github/sinchanabhat/Deep_Learning/blob/master/myNeuralNet.ipynb\" target=\"_parent\"><img src=\"https://colab.research.google.com/assets/colab-badge.svg\" alt=\"Open In Colab\"/></a>"
      ]
    },
    {
      "cell_type": "code",
      "metadata": {
        "id": "QV6Fp8uKtyh6",
        "colab_type": "code",
        "colab": {}
      },
      "source": [
        "import numpy"
      ],
      "execution_count": 0,
      "outputs": []
    },
    {
      "cell_type": "code",
      "metadata": {
        "id": "cJvJEgbht7Tn",
        "colab_type": "code",
        "outputId": "4ea75c81-e8b2-4bf9-8b08-a7b7e4af9428",
        "colab": {
          "base_uri": "https://localhost:8080/",
          "height": 85
        }
      },
      "source": [
        "a=numpy.zeros([3,2])\n",
        "print (a)"
      ],
      "execution_count": 0,
      "outputs": [
        {
          "output_type": "stream",
          "text": [
            "[[0. 0.]\n",
            " [0. 0.]\n",
            " [0. 0.]]\n",
            "ERROR! Session/line number was not unique in database. History logging moved to new session 59\n"
          ],
          "name": "stdout"
        }
      ]
    },
    {
      "cell_type": "code",
      "metadata": {
        "id": "U2s5KELyKhNq",
        "colab_type": "code",
        "outputId": "1fe1cd46-3d8b-4446-950b-9ec360105f26",
        "colab": {
          "base_uri": "https://localhost:8080/",
          "height": 68
        }
      },
      "source": [
        "a[0,0]=1\n",
        "a[0,1]=2\n",
        "a[1,0]=9\n",
        "a[2,1]=12\n",
        "print(a)"
      ],
      "execution_count": 0,
      "outputs": [
        {
          "output_type": "stream",
          "text": [
            "[[ 1.  2.]\n",
            " [ 9.  0.]\n",
            " [ 0. 12.]]\n"
          ],
          "name": "stdout"
        }
      ]
    },
    {
      "cell_type": "code",
      "metadata": {
        "id": "1nhUfjj_LMDZ",
        "colab_type": "code",
        "outputId": "40aee5be-e750-4d76-8f04-b1080797667b",
        "colab": {
          "base_uri": "https://localhost:8080/",
          "height": 51
        }
      },
      "source": [
        "print(a[0,1])\n",
        "v=a[1,0]\n",
        "print(v)"
      ],
      "execution_count": 0,
      "outputs": [
        {
          "output_type": "stream",
          "text": [
            "2.0\n",
            "9.0\n"
          ],
          "name": "stdout"
        }
      ]
    },
    {
      "cell_type": "code",
      "metadata": {
        "id": "L11-NXSSTNaY",
        "colab_type": "code",
        "colab": {}
      },
      "source": [
        "import matplotlib.pyplot as plt\n",
        "%matplotlib inline    \n"
      ],
      "execution_count": 0,
      "outputs": []
    },
    {
      "cell_type": "code",
      "metadata": {
        "id": "rqQo1DiQT3IB",
        "colab_type": "code",
        "outputId": "6cbe512d-2d57-4928-ee9a-537488e79648",
        "colab": {
          "base_uri": "https://localhost:8080/",
          "height": 286
        }
      },
      "source": [
        "plt.imshow(a,interpolation=\"nearest\")"
      ],
      "execution_count": 0,
      "outputs": [
        {
          "output_type": "execute_result",
          "data": {
            "text/plain": [
              "<matplotlib.image.AxesImage at 0x7f20cea0bb70>"
            ]
          },
          "metadata": {
            "tags": []
          },
          "execution_count": 7
        },
        {
          "output_type": "display_data",
          "data": {
            "image/png": "[encoded data removed]",
            "text/plain": [
              "<Figure size 432x288 with 1 Axes>"
            ]
          },
          "metadata": {
            "tags": []
          }
        }
      ]
    },
    {
      "cell_type": "code",
      "metadata": {
        "id": "ziv0XUvJMcDj",
        "colab_type": "code",
        "colab": {}
      },
      "source": [
        "class Dog:\n",
        "  def bark(self):\n",
        "    print(\"wolf\")\n",
        "    pass\n",
        "  pass\n",
        "\n"
      ],
      "execution_count": 0,
      "outputs": []
    },
    {
      "cell_type": "code",
      "metadata": {
        "id": "nX_DXy9ZXhqP",
        "colab_type": "code",
        "outputId": "bdaaae8d-ac69-466e-c200-9f375742cb9d",
        "colab": {
          "base_uri": "https://localhost:8080/",
          "height": 51
        }
      },
      "source": [
        "sizzles=Dog()\n",
        "mutley=Dog()\n",
        "mutley.bark()\n",
        "sizzles.bark()"
      ],
      "execution_count": 0,
      "outputs": [
        {
          "output_type": "stream",
          "text": [
            "wolf\n",
            "wolf\n"
          ],
          "name": "stdout"
        }
      ]
    },
    {
      "cell_type": "code",
      "metadata": {
        "id": "c4yAzuKkggLP",
        "colab_type": "code",
        "colab": {}
      },
      "source": [
        "#class for a dog object\n",
        "class Dog:\n",
        "  #intitialization method with internal data\n",
        "  def __init__(self,petname,temp):\n",
        "    self.name = petname;\n",
        "    self.temperature=temp;\n",
        "\n",
        "  #get status\n",
        "  def status(self):\n",
        "    print(\"dog name is\", self.name)\n",
        "    print(\"dog temp is\", self.temperature)\n",
        "    pass\n",
        "\n",
        "    #set temp\n",
        "  def setTemp(self,temp):\n",
        "    self.temperature=temp;\n",
        "    pass\n",
        "\n",
        "    #dog barks\n",
        "\n",
        "    def bark(self):\n",
        "      print(wolf)\n",
        "      pass\n",
        "\n",
        "    pass\n",
        "\n",
        "  \n",
        "  \n"
      ],
      "execution_count": 0,
      "outputs": []
    },
    {
      "cell_type": "code",
      "metadata": {
        "id": "HS7rz6rxgpIm",
        "colab_type": "code",
        "colab": {}
      },
      "source": [
        "lassie = Dog(\"Lassie\",37) #creates new obj from dog class\n",
        "zoobey=Dog(\"zoobie\",38)"
      ],
      "execution_count": 0,
      "outputs": []
    },
    {
      "cell_type": "code",
      "metadata": {
        "id": "BDf4XPgs4wMC",
        "colab_type": "code",
        "colab": {
          "base_uri": "https://localhost:8080/",
          "height": 86
        },
        "outputId": "3554cdf4-5d40-469e-cdbb-a54c390d2295"
      },
      "source": [
        "lassie.status()\n",
        "zoobey.status()\n"
      ],
      "execution_count": 6,
      "outputs": [
        {
          "output_type": "stream",
          "text": [
            "dog name is Lassie\n",
            "dog temp is 37\n",
            "dog name is zoobie\n",
            "dog temp is 38\n"
          ],
          "name": "stdout"
        }
      ]
    },
    {
      "cell_type": "code",
      "metadata": {
        "id": "brFA3acm42l8",
        "colab_type": "code",
        "colab": {
          "base_uri": "https://localhost:8080/",
          "height": 52
        },
        "outputId": "e0f03ef1-32c7-49d9-dd82-dea45aff8a37"
      },
      "source": [
        "lassie.setTemp(40)\n",
        "lassie.status()"
      ],
      "execution_count": 4,
      "outputs": [
        {
          "output_type": "stream",
          "text": [
            "dog name is Lassie\n",
            "dog temp is 40\n"
          ],
          "name": "stdout"
        }
      ]
    },
    {
      "cell_type": "code",
      "metadata": {
        "id": "U2V6hDiy9p5b",
        "colab_type": "code",
        "colab": {}
      },
      "source": [
        ""
      ],
      "execution_count": 0,
      "outputs": []
    },
    {
      "cell_type": "markdown",
      "metadata": {
        "id": "85wLuI779rBW",
        "colab_type": "text"
      },
      "source": [
        "Neural Network with Python\n"
      ]
    },
    {
      "cell_type": "code",
      "metadata": {
        "id": "Dqthk6OA9yJG",
        "colab_type": "code",
        "colab": {}
      },
      "source": [
        "import numpy\n",
        "\n",
        "#neural network class def\n",
        "class neuralNetwork:\n",
        "\n",
        "  #initialize the neural neywork\n",
        "  def __init__(self, inputnodes, hiddennodes, outputnodes, learningrate):\n",
        "    #set no. of nodes in each input,hidden and output layer\n",
        "    self.inodes=inputnodes\n",
        "    self.hnodes=hiddennodes\n",
        "    self.onodes=outputnodes\n",
        "\n",
        "\n",
        "\n",
        "    #link weight matrices wih and who\n",
        "\n",
        "    # weights inside the arrays are w_i_j, where link is from node\n",
        "    #i to node j in the next layer\n",
        "    # w11 w21\n",
        "    # w12 w22 etc\n",
        "\n",
        "\n",
        "    self.wih = (numpy.random.rand(self.hnodes,self.onodes) - 0.5)\n",
        "    self.who = (numpy.random.rand(self.onodes,self.hnodes) - 0.5)\n",
        "\n",
        "\n",
        "\n",
        "    \n",
        "    #learning rate\n",
        "    self.lr=learningrate\n",
        "    pass\n",
        "\n",
        "  #train the neural network\n",
        "  def train():\n",
        "    pass\n",
        "\n",
        "  #query the neural network\n",
        "  def query():\n",
        "    pass\n"
      ],
      "execution_count": 0,
      "outputs": []
    },
    {
      "cell_type": "code",
      "metadata": {
        "id": "-kgAYqPpEP29",
        "colab_type": "code",
        "colab": {}
      },
      "source": [
        "#no. of input,hidden and output nodes. This is code to create object\n",
        "input_nodes = 3\n",
        "hidden_nodes = 3\n",
        "output_nodes = 3\n",
        "\n",
        "#learning rate\n",
        "learning_rate = 0.3\n",
        "\n",
        "#create instance of neural network\n",
        "n = neuralNetwork(input_nodes,hidden_nodes,output_nodes,learning_rate)"
      ],
      "execution_count": 0,
      "outputs": []
    },
    {
      "cell_type": "code",
      "metadata": {
        "id": "o9KE78DhH1e8",
        "colab_type": "code",
        "colab": {
          "base_uri": "https://localhost:8080/",
          "height": 69
        },
        "outputId": "ca57a3f5-1212-4388-c87c-637ad2f0154c"
      },
      "source": [
        "numpy.random.rand(3,3) - 0.5"
      ],
      "execution_count": 11,
      "outputs": [
        {
          "output_type": "execute_result",
          "data": {
            "text/plain": [
              "array([[ 0.36775697, -0.40937458, -0.14568864],\n",
              "       [ 0.0609006 ,  0.38130953,  0.10850154],\n",
              "       [ 0.28770777, -0.05073437, -0.20326367]])"
            ]
          },
          "metadata": {
            "tags": []
          },
          "execution_count": 11
        }
      ]
    },
    {
      "cell_type": "code",
      "metadata": {
        "id": "SjZ2wfAgVPa3",
        "colab_type": "code",
        "colab": {
          "base_uri": "https://localhost:8080/",
          "height": 202
        },
        "outputId": "89872ac6-df46-423c-d06e-f13d324c7a0b"
      },
      "source": [
        ""
      ],
      "execution_count": 15,
      "outputs": [
        {
          "output_type": "error",
          "ename": "NameError",
          "evalue": "ignored",
          "traceback": [
            "\u001b[0;31m---------------------------------------------------------------------------\u001b[0m",
            "\u001b[0;31mNameError\u001b[0m                                 Traceback (most recent call last)",
            "\u001b[0;32m<ipython-input-15-357b306cc3f3>\u001b[0m in \u001b[0;36m<module>\u001b[0;34m()\u001b[0m\n\u001b[1;32m      1\u001b[0m \u001b[0;34m\u001b[0m\u001b[0m\n\u001b[0;32m----> 2\u001b[0;31m \u001b[0mself\u001b[0m\u001b[0;34m.\u001b[0m\u001b[0mwih\u001b[0m \u001b[0;34m=\u001b[0m \u001b[0;34m(\u001b[0m\u001b[0mnumpy\u001b[0m\u001b[0;34m.\u001b[0m\u001b[0mrandom\u001b[0m\u001b[0;34m.\u001b[0m\u001b[0mrand\u001b[0m\u001b[0;34m(\u001b[0m\u001b[0mself\u001b[0m\u001b[0;34m.\u001b[0m\u001b[0mhnodes\u001b[0m\u001b[0;34m,\u001b[0m\u001b[0mself\u001b[0m\u001b[0;34m.\u001b[0m\u001b[0monodes\u001b[0m\u001b[0;34m)\u001b[0m \u001b[0;34m-\u001b[0m \u001b[0;36m0.5\u001b[0m\u001b[0;34m)\u001b[0m\u001b[0;34m\u001b[0m\u001b[0;34m\u001b[0m\u001b[0m\n\u001b[0m\u001b[1;32m      3\u001b[0m \u001b[0mself\u001b[0m\u001b[0;34m.\u001b[0m\u001b[0mwho\u001b[0m \u001b[0;34m=\u001b[0m \u001b[0;34m(\u001b[0m\u001b[0mnumpy\u001b[0m\u001b[0;34m.\u001b[0m\u001b[0mrandom\u001b[0m\u001b[0;34m.\u001b[0m\u001b[0mrand\u001b[0m\u001b[0;34m(\u001b[0m\u001b[0mself\u001b[0m\u001b[0;34m.\u001b[0m\u001b[0monodes\u001b[0m\u001b[0;34m,\u001b[0m\u001b[0mself\u001b[0m\u001b[0;34m.\u001b[0m\u001b[0mhnodes\u001b[0m\u001b[0;34m)\u001b[0m \u001b[0;34m-\u001b[0m \u001b[0;36m0.5\u001b[0m\u001b[0;34m)\u001b[0m\u001b[0;34m\u001b[0m\u001b[0;34m\u001b[0m\u001b[0m\n",
            "\u001b[0;31mNameError\u001b[0m: name 'self' is not defined"
          ]
        }
      ]
    }
  ]
}